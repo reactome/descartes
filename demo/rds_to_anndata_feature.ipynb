{
 "cells": [
  {
   "cell_type": "code",
   "execution_count": 1,
   "id": "59624f7e",
   "metadata": {},
   "outputs": [
    {
     "name": "stdout",
     "output_type": "stream",
     "text": [
      "../../Thymus_gene_count.RDS\r\n"
     ]
    }
   ],
   "source": [
    "!ls ../../Thymus_gene*"
   ]
  },
  {
   "cell_type": "code",
   "execution_count": 2,
   "id": "3383f4cc",
   "metadata": {},
   "outputs": [],
   "source": [
    "from descartes_rpa.convert.rds import rds_to_anndata"
   ]
  },
  {
   "cell_type": "markdown",
   "id": "b8b0c186",
   "metadata": {},
   "source": [
    "### In the terminal, just calling \"rds_to_mtx.R\" (default) works because of setup.py. However, in the Jupyter Notebook it cannot find the bin, even me being in the conda kernel"
   ]
  },
  {
   "cell_type": "code",
   "execution_count": 5,
   "id": "aa8d59b1",
   "metadata": {},
   "outputs": [],
   "source": [
    "adata = rds_to_anndata(\n",
    "    file=\"/home/joao/google_summer_of_code/Thymus_gene_count.RDS\",\n",
    "    r_script=\"/home/joao/google_summer_of_code/descartes-rpa/descartes_rpa/convert/rds_to_mtx.R\"\n",
    ")"
   ]
  },
  {
   "cell_type": "code",
   "execution_count": 6,
   "id": "61f3627a",
   "metadata": {},
   "outputs": [
    {
     "data": {
      "text/plain": [
       "Index(['ENSG00000223972.4', 'ENSG00000227232.4', 'ENSG00000243485.2',\n",
       "       'ENSG00000237613.2', 'ENSG00000268020.2', 'ENSG00000240361.1',\n",
       "       'ENSG00000186092.4', 'ENSG00000238009.2', 'ENSG00000239945.1',\n",
       "       'ENSG00000233750.3',\n",
       "       ...\n",
       "       'ENSG00000240688.1', 'ENSG00000265117.1', 'ENSG00000215713.3',\n",
       "       'ENSG00000268590.1', 'ENSG00000241000.2', 'ENSG00000240779.1',\n",
       "       'ENSG00000244656.1', 'ENSG00000263760.1', 'ENSG00000222670.2',\n",
       "       'ENSG00000251180.2'],\n",
       "      dtype='object', length=63561)"
      ]
     },
     "execution_count": 6,
     "metadata": {},
     "output_type": "execute_result"
    }
   ],
   "source": [
    "adata.var_names"
   ]
  },
  {
   "cell_type": "code",
   "execution_count": 7,
   "id": "b84595f9",
   "metadata": {},
   "outputs": [
    {
     "data": {
      "text/plain": [
       "Index(['exp4-human-101well.CGCTGCTTTTGGTCAGCCA',\n",
       "       'exp4-human-101well.ATGCTTCCTAACCATTGGA',\n",
       "       'exp4-human-103well.TTCCATTACTTTATTCATTC',\n",
       "       'exp4-human-103well.GACCGTCATCATTCGACGG',\n",
       "       'exp4-human-104well.CCAGCCTTTTAACTGGTTA',\n",
       "       'exp4-human-104well.CAAGCAACTTGGTCAGCCA',\n",
       "       'exp4-human-104well.GAGACTAGTAACCATTGGA',\n",
       "       'exp4-human-105well.AAACCATAGTGACCTTGATA',\n",
       "       'exp4-human-105well.TTCTTCGTTTGGTACCGGCA',\n",
       "       'exp4-human-105well.CCGACCAATTTATTCATTC',\n",
       "       ...\n",
       "       'exp3-human-464well.AACTAGTTGTCATCTCTGCA',\n",
       "       'exp3-human-465well.GACTGACGTCTCGATGGAG',\n",
       "       'exp3-human-470well.ACGGAACGTACGAGGACCT',\n",
       "       'exp3-human-472well.GCGTCGTATTAGATCTACT',\n",
       "       'exp3-human-473well.CTCCAGAGTATCCATGACT',\n",
       "       'exp3-human-475well.TTGGTTAAGTCTCGTCTAGG',\n",
       "       'exp3-human-476well.GGCTTACTTTGGAAGTACC',\n",
       "       'exp3-human-476well.TCCAAGTTATATCCATGACT',\n",
       "       'exp3-human-477well.CTATCTCCTAGTCCGCGGA',\n",
       "       'exp3-human-478well.GGTCAGTTTACCGCCAACC'],\n",
       "      dtype='object', name='x', length=12611)"
      ]
     },
     "execution_count": 7,
     "metadata": {},
     "output_type": "execute_result"
    }
   ],
   "source": [
    "adata.obs_names"
   ]
  },
  {
   "cell_type": "code",
   "execution_count": 8,
   "id": "916d521b",
   "metadata": {},
   "outputs": [
    {
     "data": {
      "text/plain": [
       "AnnData object with n_obs × n_vars = 12611 × 63561"
      ]
     },
     "execution_count": 8,
     "metadata": {},
     "output_type": "execute_result"
    }
   ],
   "source": [
    "adata"
   ]
  },
  {
   "cell_type": "code",
   "execution_count": 9,
   "id": "13dd40bc",
   "metadata": {},
   "outputs": [
    {
     "data": {
      "text/html": [
       "<div>\n",
       "<style scoped>\n",
       "    .dataframe tbody tr th:only-of-type {\n",
       "        vertical-align: middle;\n",
       "    }\n",
       "\n",
       "    .dataframe tbody tr th {\n",
       "        vertical-align: top;\n",
       "    }\n",
       "\n",
       "    .dataframe thead th {\n",
       "        text-align: right;\n",
       "    }\n",
       "</style>\n",
       "<table border=\"1\" class=\"dataframe\">\n",
       "  <thead>\n",
       "    <tr style=\"text-align: right;\">\n",
       "      <th></th>\n",
       "    </tr>\n",
       "  </thead>\n",
       "  <tbody>\n",
       "    <tr>\n",
       "      <th>ENSG00000223972.4</th>\n",
       "    </tr>\n",
       "    <tr>\n",
       "      <th>ENSG00000227232.4</th>\n",
       "    </tr>\n",
       "    <tr>\n",
       "      <th>ENSG00000243485.2</th>\n",
       "    </tr>\n",
       "    <tr>\n",
       "      <th>ENSG00000237613.2</th>\n",
       "    </tr>\n",
       "    <tr>\n",
       "      <th>ENSG00000268020.2</th>\n",
       "    </tr>\n",
       "    <tr>\n",
       "      <th>...</th>\n",
       "    </tr>\n",
       "    <tr>\n",
       "      <th>ENSG00000240779.1</th>\n",
       "    </tr>\n",
       "    <tr>\n",
       "      <th>ENSG00000244656.1</th>\n",
       "    </tr>\n",
       "    <tr>\n",
       "      <th>ENSG00000263760.1</th>\n",
       "    </tr>\n",
       "    <tr>\n",
       "      <th>ENSG00000222670.2</th>\n",
       "    </tr>\n",
       "    <tr>\n",
       "      <th>ENSG00000251180.2</th>\n",
       "    </tr>\n",
       "  </tbody>\n",
       "</table>\n",
       "<p>63561 rows × 0 columns</p>\n",
       "</div>"
      ],
      "text/plain": [
       "Empty DataFrame\n",
       "Columns: []\n",
       "Index: [ENSG00000223972.4, ENSG00000227232.4, ENSG00000243485.2, ENSG00000237613.2, ENSG00000268020.2, ENSG00000240361.1, ENSG00000186092.4, ENSG00000238009.2, ENSG00000239945.1, ENSG00000233750.3, ENSG00000237683.5, ENSG00000268903.1, ENSG00000269981.1, ENSG00000239906.1, ENSG00000241860.2, ENSG00000222623.1, ENSG00000241599.1, ENSG00000228463.4, ENSG00000241670.2, ENSG00000237094.7, ENSG00000250575.1, ENSG00000233653.3, ENSG00000224813.2, ENSG00000235249.1, ENSG00000269732.1, ENSG00000256186.1, ENSG00000236601.1, ENSG00000236743.1, ENSG00000236679.2, ENSG00000231709.1, ENSG00000235146.2, ENSG00000239664.2, ENSG00000230021.3, ENSG00000223659.1, ENSG00000225972.1, ENSG00000225630.1, ENSG00000237973.1, ENSG00000229344.1, ENSG00000240409.1, ENSG00000248527.1, ENSG00000198744.5, ENSG00000268663.1, ENSG00000185097.2, ENSG00000229376.3, ENSG00000224956.5, ENSG00000235373.1, ENSG00000223181.1, ENSG00000240618.1, ENSG00000229905.1, ENSG00000228327.2, ENSG00000237491.4, ENSG00000230092.3, ENSG00000269831.1, ENSG00000240453.1, ENSG00000177757.1, ENSG00000225880.4, ENSG00000228794.4, ENSG00000230368.2, ENSG00000234711.1, ENSG00000269308.1, ENSG00000272438.1, ENSG00000230699.2, ENSG00000241180.1, ENSG00000223764.2, ENSG00000187634.6, ENSG00000268179.1, ENSG00000188976.6, ENSG00000187961.9, ENSG00000187583.6, ENSG00000187642.5, ENSG00000272512.1, ENSG00000188290.6, ENSG00000231702.2, ENSG00000224969.1, ENSG00000187608.5, ENSG00000188157.9, ENSG00000242590.1, ENSG00000217801.5, ENSG00000273443.1, ENSG00000237330.2, ENSG00000131591.13, ENSG00000223823.1, ENSG00000207730.1, ENSG00000207607.1, ENSG00000198976.1, ENSG00000272141.1, ENSG00000205231.1, ENSG00000162571.9, ENSG00000186891.9, ENSG00000186827.6, ENSG00000078808.12, ENSG00000176022.3, ENSG00000184163.3, ENSG00000260179.1, ENSG00000160087.16, ENSG00000230415.1, ENSG00000162572.15, ENSG00000131584.14, ENSG00000169972.7, ENSG00000127054.14, ...]\n",
       "\n",
       "[63561 rows x 0 columns]"
      ]
     },
     "execution_count": 9,
     "metadata": {},
     "output_type": "execute_result"
    }
   ],
   "source": [
    "adata.var"
   ]
  },
  {
   "cell_type": "code",
   "execution_count": 10,
   "id": "103bc3cf",
   "metadata": {},
   "outputs": [
    {
     "data": {
      "text/html": [
       "<div>\n",
       "<style scoped>\n",
       "    .dataframe tbody tr th:only-of-type {\n",
       "        vertical-align: middle;\n",
       "    }\n",
       "\n",
       "    .dataframe tbody tr th {\n",
       "        vertical-align: top;\n",
       "    }\n",
       "\n",
       "    .dataframe thead th {\n",
       "        text-align: right;\n",
       "    }\n",
       "</style>\n",
       "<table border=\"1\" class=\"dataframe\">\n",
       "  <thead>\n",
       "    <tr style=\"text-align: right;\">\n",
       "      <th></th>\n",
       "    </tr>\n",
       "    <tr>\n",
       "      <th>x</th>\n",
       "    </tr>\n",
       "  </thead>\n",
       "  <tbody>\n",
       "    <tr>\n",
       "      <th>exp4-human-101well.CGCTGCTTTTGGTCAGCCA</th>\n",
       "    </tr>\n",
       "    <tr>\n",
       "      <th>exp4-human-101well.ATGCTTCCTAACCATTGGA</th>\n",
       "    </tr>\n",
       "    <tr>\n",
       "      <th>exp4-human-103well.TTCCATTACTTTATTCATTC</th>\n",
       "    </tr>\n",
       "    <tr>\n",
       "      <th>exp4-human-103well.GACCGTCATCATTCGACGG</th>\n",
       "    </tr>\n",
       "    <tr>\n",
       "      <th>exp4-human-104well.CCAGCCTTTTAACTGGTTA</th>\n",
       "    </tr>\n",
       "    <tr>\n",
       "      <th>...</th>\n",
       "    </tr>\n",
       "    <tr>\n",
       "      <th>exp3-human-475well.TTGGTTAAGTCTCGTCTAGG</th>\n",
       "    </tr>\n",
       "    <tr>\n",
       "      <th>exp3-human-476well.GGCTTACTTTGGAAGTACC</th>\n",
       "    </tr>\n",
       "    <tr>\n",
       "      <th>exp3-human-476well.TCCAAGTTATATCCATGACT</th>\n",
       "    </tr>\n",
       "    <tr>\n",
       "      <th>exp3-human-477well.CTATCTCCTAGTCCGCGGA</th>\n",
       "    </tr>\n",
       "    <tr>\n",
       "      <th>exp3-human-478well.GGTCAGTTTACCGCCAACC</th>\n",
       "    </tr>\n",
       "  </tbody>\n",
       "</table>\n",
       "<p>12611 rows × 0 columns</p>\n",
       "</div>"
      ],
      "text/plain": [
       "Empty DataFrame\n",
       "Columns: []\n",
       "Index: [exp4-human-101well.CGCTGCTTTTGGTCAGCCA, exp4-human-101well.ATGCTTCCTAACCATTGGA, exp4-human-103well.TTCCATTACTTTATTCATTC, exp4-human-103well.GACCGTCATCATTCGACGG, exp4-human-104well.CCAGCCTTTTAACTGGTTA, exp4-human-104well.CAAGCAACTTGGTCAGCCA, exp4-human-104well.GAGACTAGTAACCATTGGA, exp4-human-105well.AAACCATAGTGACCTTGATA, exp4-human-105well.TTCTTCGTTTGGTACCGGCA, exp4-human-105well.CCGACCAATTTATTCATTC, exp4-human-105well.AGTAGCCATGGTACCGGCA, exp4-human-105well.ATATGCCATTCGAACGCCGG, exp4-human-106well.CGCCGTAATCGAACGCCGG, exp4-human-106well.TCGAGAAGTTTATTCATTC, exp4-human-106well.ACCTCAATATCATTCGACGG, exp4-human-108well.CTCCTCGTTGACCTTGATA, exp4-human-108well.CTACGGCATGGCGAACTCG, exp4-human-108well.TAATCAGCTTGACCTTGATA, exp4-human-108well.GAGTTCTCTGGTACCGGCA, exp4-human-108well.CCTAATGGTTAACTGGTTA, exp4-human-108well.CTCTGAGCTTTATTCATTC, exp4-human-109well.ACGCCATATGGTACCGGCA, exp4-human-109well.CGGAACCTTTTATTCATTC, exp4-human-10well.ACAACCTATTTTATTCATTC, exp4-human-10well.GGTACGGATGGTACCGGCA, exp4-human-110well.CCAATCCATTGGTCAGCCA, exp4-human-110well.TACTCCTATTAACCATTGGA, exp4-human-110well.TGCTAATTCTGGTACCGGCA, exp4-human-111well.AAGGCTACTCATTCGACGG, exp4-human-111well.AAACTGAACTTGGTCAGCCA, exp4-human-111well.TTCTTCGTTTAACCATTGGA, exp4-human-111well.TCCGGTCATCATTCGACGG, exp4-human-112well.CAAGGCGTTTTATTCATTC, exp4-human-113well.AACGATCATTTTATTCATTC, exp4-human-113well.TAGATGACTTTAACTGGTTA, exp4-human-113well.TAGCCAATTTTTATTCATTC, exp4-human-113well.TCTATCCAATAACCATTGGA, exp4-human-114well.GAACGGCTTAACCATTGGA, exp4-human-114well.CGGAACCTTTTATTCATTC, exp4-human-115well.AACGATCATTCATTCGACGG, exp4-human-115well.AGTCGCATTAACCATTGGA, exp4-human-115well.CGGTTCCATGGTACCGGCA, exp4-human-115well.ATATGCCATTTAACTGGTTA, exp4-human-116well.TTGGTTAAGTGGTACCGGCA, exp4-human-116well.TTCTAAGCTTTAACTGGTTA, exp4-human-117well.ATTAGGTACTGGTACCGGCA, exp4-human-117well.TAACTAAGGTTGGTCAGCCA, exp4-human-117well.GGTACGGATTAACTGGTTA, exp4-human-117well.CCGGAGTTTGACCTTGATA, exp4-human-117well.AGTTGCGCTGGTACCGGCA, exp4-human-118well.TGGATCCGTCATTCGACGG, exp4-human-118well.ATTAATGCCTCATTCGACGG, exp4-human-119well.TTCTTCGTTTAACCATTGGA, exp4-human-11well.ACAACCTATTAACCATTGGA, exp4-human-11well.CTAACGACTGACCTTGATA, exp4-human-120well.TTCTCATTGTAACCATTGGA, exp4-human-120well.GCTCGAGATTTATTCATTC, exp4-human-121well.ATCAATACGTTGGTCAGCCA, exp4-human-121well.AAGATGCCTGACCTTGATA, exp4-human-121well.TATAAGAGGTTTATTCATTC, exp4-human-121well.CCTGCAGTTGGTACCGGCA, exp4-human-121well.ACCGGTTCTCATTCGACGG, exp4-human-121well.CCTGCTACTCGAACGCCGG, exp4-human-122well.TTGGAGTTATGACCTTGATA, exp4-human-123well.TCTTAGTTCTTTATTCATTC, exp4-human-123well.CTCGCATGTGACCTTGATA, exp4-human-123well.CTCCGGTTTTGGTCAGCCA, exp4-human-123well.AGGCATCATGACCTTGATA, exp4-human-123well.CGTACCTATTGGTCAGCCA, exp4-human-123well.GGCAAGTCTAACCATTGGA, exp4-human-123well.TTTGCTTAGTTGGTCAGCCA, exp4-human-124well.ATAATCCTGTTAACTGGTTA, exp4-human-124well.TCTCGCTCTTAACTGGTTA, exp4-human-124well.CGAGGCAATCGAACGCCGG, exp4-human-124well.GGCTTACTTTTATTCATTC, exp4-human-124well.CTGAGCATTCGAACGCCGG, exp4-human-125well.GACTGACGTTTATTCATTC, exp4-human-125well.TCATGGCTTGACCTTGATA, exp4-human-125well.GCGCTCAATGGTACCGGCA, exp4-human-125well.TTGGCTCATTTATTCATTC, exp4-human-127well.ATAACTTCCTAACCATTGGA, exp4-human-127well.AAATTCCTCTCGAACGCCGG, exp4-human-127well.TTCTCTAGTTCATTCGACGG, exp4-human-127well.CGGTTCCATGACCTTGATA, exp4-human-128well.TTCTCATTGTGGTACCGGCA, exp4-human-128well.CTCGTTGATAACCATTGGA, exp4-human-128well.GTCCTGCATTTATTCATTC, exp4-human-128well.GGCTTACTTGGTACCGGCA, exp4-human-128well.TCCTATAAGTTTATTCATTC, exp4-human-128well.AAGGATTACTTTATTCATTC, exp4-human-128well.AAGGCTACTTTATTCATTC, exp4-human-129well.ACCTTCGGTCGAACGCCGG, exp4-human-12well.TGCCTTGGTTAACTGGTTA, exp4-human-12well.CATCGGACTCGAACGCCGG, exp4-human-12well.GATAAGCGTAACCATTGGA, exp4-human-12well.CTGATAGGTTGGTCAGCCA, exp4-human-12well.ACATTCGTATTTATTCATTC, exp4-human-131well.ACCGGTTCTGACCTTGATA, exp4-human-131well.TGATGCGATGGTACCGGCA, exp4-human-131well.ACGTCTAGTGACCTTGATA, ...]\n",
       "\n",
       "[12611 rows x 0 columns]"
      ]
     },
     "execution_count": 10,
     "metadata": {},
     "output_type": "execute_result"
    }
   ],
   "source": [
    "adata.obs"
   ]
  },
  {
   "cell_type": "code",
   "execution_count": null,
   "id": "1219c0e2",
   "metadata": {},
   "outputs": [],
   "source": []
  }
 ],
 "metadata": {
  "kernelspec": {
   "display_name": "descartes-rpa",
   "language": "python",
   "name": "descartes-rpa"
  },
  "language_info": {
   "codemirror_mode": {
    "name": "ipython",
    "version": 3
   },
   "file_extension": ".py",
   "mimetype": "text/x-python",
   "name": "python",
   "nbconvert_exporter": "python",
   "pygments_lexer": "ipython3",
   "version": "3.9.4"
  }
 },
 "nbformat": 4,
 "nbformat_minor": 5
}
